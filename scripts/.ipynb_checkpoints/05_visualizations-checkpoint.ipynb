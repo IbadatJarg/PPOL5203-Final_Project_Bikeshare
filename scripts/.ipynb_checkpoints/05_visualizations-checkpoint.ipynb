{
 "cells": [
  {
   "cell_type": "markdown",
   "id": "21840a1d",
   "metadata": {},
   "source": [
    "<h1><center> PPOL 5203 : Final Project  <br><br> \n",
    "<font color='grey'> Visualizations <br><br>\n",
    "Ibadat Jarg and Helen Wang</center></center> <h1> "
   ]
  },
  {
   "cell_type": "code",
   "execution_count": null,
   "id": "acb910e0",
   "metadata": {},
   "outputs": [],
   "source": [
    "#!pip install geopandas"
   ]
  },
  {
   "cell_type": "code",
   "execution_count": null,
   "id": "de4ae4e6",
   "metadata": {},
   "outputs": [],
   "source": [
    "#setting libraries\n",
    "import pandas as pd\n",
    "from plotnine import * \n",
    "import geopandas as gpd\n",
    "import numpy as np\n",
    "from sklearn.preprocessing import StandardScaler"
   ]
  },
  {
   "cell_type": "code",
   "execution_count": null,
   "id": "76c10dab",
   "metadata": {},
   "outputs": [],
   "source": [
    "#reading in file\n",
    "df = pd.read_csv(\"../data/cleaned_data/final_data.csv\")\n",
    "gdf_points = gpd.GeoDataFrame(df, geometry=gpd.points_from_xy(df['long'], df['lat']), crs=\"EPSG:4326\")"
   ]
  },
  {
   "cell_type": "code",
   "execution_count": null,
   "id": "90231ee4",
   "metadata": {},
   "outputs": [],
   "source": [
    "#dataset of only the opened in 2013\n",
    "df_13 = df[df[\"open_year\"] == 2013.0]"
   ]
  },
  {
   "cell_type": "code",
   "execution_count": null,
   "id": "27121003",
   "metadata": {},
   "outputs": [],
   "source": [
    "#reading in geographic data (zipped on github right now due to size)\n",
    "america = gpd.read_file('../data/raw_data/county_shape_file_zip')"
   ]
  },
  {
   "cell_type": "code",
   "execution_count": null,
   "id": "c367cff7",
   "metadata": {},
   "outputs": [],
   "source": [
    "#list of counties in DMV\n",
    "dmv_counties = [\n",
    "    ('11','001'),  # Washington, D.C.\n",
    "    ('24', '031'),  # Montgomery County, MD\n",
    "    ('24', '033'),  # Prince George's County, MD\n",
    "    ('51', '013'),  # Arlington County, VA\n",
    "    ('51', '059'),  # Fairfax County, VA\n",
    "    ('51', '600'),   # Falls Church, VA\n",
    "    ('51', '510')   # Alexandria, VA\n",
    "]"
   ]
  },
  {
   "cell_type": "code",
   "execution_count": null,
   "id": "299755dc",
   "metadata": {
    "scrolled": true
   },
   "outputs": [],
   "source": [
    "#filtering for DMV counties\n",
    "dmv = america[\n",
    "    america.apply(lambda x: (x['STATEFP'], x['COUNTYFP']) in dmv_counties, axis=1)\n",
    "]"
   ]
  },
  {
   "cell_type": "code",
   "execution_count": null,
   "id": "6bcfa039",
   "metadata": {
    "scrolled": true
   },
   "outputs": [],
   "source": [
    "#plot of bikeshares opened as of today\n",
    "map1 = (\n",
    "ggplot(data = df) +\n",
    "    geom_map(data = dmv,\n",
    "            mapping = aes(fill = 'NAME', geometry = 'geometry'),\n",
    "            color = \"white\",\n",
    "            alpha = 0.5) +\n",
    "    geom_point(mapping = aes(x = 'long', y = 'lat'),\n",
    "               color = \"black\",\n",
    "               fill = \"#c3d67aff\",\n",
    "               size = 0.5,\n",
    "               alpha = 0.5\n",
    "        ) +\n",
    "    labs(title = \"Capital Bike Shares Opened as of 2024\", fill = \"County\") +\n",
    "    theme_void() +\n",
    "    theme(\n",
    "      plot_title=element_text(face=\"bold\")\n",
    "    ) +\n",
    "    scale_fill_brewer(type=\"qual\", palette=\"Set3\")\n",
    ")\n",
    "\n",
    "map1"
   ]
  },
  {
   "cell_type": "code",
   "execution_count": null,
   "id": "f3548d36",
   "metadata": {
    "scrolled": true
   },
   "outputs": [],
   "source": [
    "#plot of bikeshares opened in 2013\n",
    "(\n",
    "ggplot(data = df_13) +\n",
    "    geom_map(data = dmv,\n",
    "            mapping = aes(fill = 'NAME', geometry = 'geometry'),\n",
    "            color = \"white\",\n",
    "            alpha = 0.5) +\n",
    "    geom_point(mapping = aes(x = 'long', y = 'lat'),\n",
    "               color = \"black\",\n",
    "               fill = \"#c3d67aff\",\n",
    "               size = 0.5,\n",
    "               alpha = 0.5\n",
    "        ) +\n",
    "    labs(title = \"Capital Bike Shares Opened in 2013\", fill = \"County\") +\n",
    "    theme_void() +\n",
    "    theme(\n",
    "      plot_title=element_text(face=\"bold\")\n",
    "    ) +\n",
    "    scale_fill_brewer(type=\"qual\", palette=\"Set3\")\n",
    ")"
   ]
  },
  {
   "cell_type": "code",
   "execution_count": null,
   "id": "66a85cff",
   "metadata": {},
   "outputs": [],
   "source": [
    "#turned from wide to long\n",
    "df_13_traffic = df_13.melt(id_vars=['id', 'long', 'lat', 'open_year', 'name', 'opened_station', 'opened_2013'], var_name = \"year\", value_name = \"aadt\")"
   ]
  },
  {
   "cell_type": "code",
   "execution_count": null,
   "id": "9aa509c2",
   "metadata": {},
   "outputs": [],
   "source": [
    "#treat year as category\n",
    "df_13_traffic['year'] = df_13_traffic['year'].astype('category')"
   ]
  },
  {
   "cell_type": "code",
   "execution_count": null,
   "id": "2e27cf85",
   "metadata": {
    "scrolled": true
   },
   "outputs": [],
   "source": [
    "#plot of bikeshares opened in 2013 colored by traffic volume \n",
    "(\n",
    "ggplot(data = df_13_traffic[df_13_traffic['year'].isin([\"2007\", \"2019\"])]) +\n",
    "    geom_map(data = dmv,\n",
    "            mapping = aes(fill = 'NAME', geometry = 'geometry'),\n",
    "            color = \"white\",\n",
    "            alpha = 0.5) +\n",
    "    geom_point(mapping = aes(x = 'long', y = 'lat', color = \"aadt\"),\n",
    "               size = 1,\n",
    "               alpha = 0.5\n",
    "        ) +\n",
    "    labs(title = \"Traffic in Capital Bike Share Locations\", fill = \"County\", color = \"AADT\") +\n",
    "    theme_void() +\n",
    "    theme(\n",
    "      plot_title=element_text(face=\"bold\")\n",
    "    ) +\n",
    "    facet_grid('~year') +\n",
    "    scale_color_distiller(type = \"div\",palette=\"RdYlGn\", direction = 1) +\n",
    "    scale_fill_brewer(type=\"qual\", palette=\"Set3\")\n",
    ")"
   ]
  },
  {
   "cell_type": "code",
   "execution_count": null,
   "id": "48f8346f",
   "metadata": {
    "scrolled": true
   },
   "outputs": [],
   "source": [
    "#computing change in aadt\n",
    "df_13[\"change\"] = (df_13[\"2007\"]-df_13[\"2019\"])/df_13[\"2007\"] * 100"
   ]
  },
  {
   "cell_type": "code",
   "execution_count": null,
   "id": "d788daba",
   "metadata": {
    "scrolled": true
   },
   "outputs": [],
   "source": [
    "#plot of change in aadt for opened 2013, 2010-2016\n",
    "(\n",
    "ggplot(data = df_13) +\n",
    "    geom_map(data = dmv,\n",
    "            mapping = aes(fill = 'NAME', geometry = 'geometry'),\n",
    "            color = \"white\",\n",
    "            alpha = 0.5) +\n",
    "    geom_point(mapping = aes(x = 'long', y = 'lat', color = \"change\"),\n",
    "               size = 1,\n",
    "               alpha = 0.5\n",
    "        ) +\n",
    "    labs(title = \"Change in Traffic Volume between 2007-2019\", fill = \"County\",\n",
    "        color = \"Change in AADT\") +\n",
    "    theme_void() +\n",
    "    theme(\n",
    "      plot_title=element_text(face=\"bold\")\n",
    "    )+\n",
    "    scale_fill_brewer(type=\"qual\", palette=\"Set3\") +\n",
    "    scale_color_distiller(type = \"div\",palette=\"RdYlGn\", direction = 1,\n",
    "                        limits=(-50, 50),\n",
    "                         breaks=[-50, 0, 50])\n",
    ")"
   ]
  },
  {
   "cell_type": "code",
   "execution_count": null,
   "id": "17d53d71",
   "metadata": {},
   "outputs": [],
   "source": [
    "#computing change in aadt for all stations opened in 2024\n",
    "df[\"change_ex\"] = (df[\"2007\"]-df[\"2019\"])/df[\"2007\"] * 100"
   ]
  },
  {
   "cell_type": "code",
   "execution_count": null,
   "id": "3f23adbd",
   "metadata": {},
   "outputs": [],
   "source": [
    "#plot of change in aadt for all, 2007-2019\n",
    "(\n",
    "ggplot(data = df) +\n",
    "    geom_map(data = dmv,\n",
    "            mapping = aes(fill = 'NAME', geometry = 'geometry'),\n",
    "            color = \"white\",\n",
    "            alpha = 0.5) +\n",
    "    geom_point(mapping = aes(x = 'long', y = 'lat', color = \"change_ex\", shape = \"opened_2013\"),\n",
    "               size = 1,\n",
    "               alpha = 0.5\n",
    "        ) +\n",
    "    labs(title = \"Change in Traffic Volume between 2007-2019\", fill = \"County\",\n",
    "        color = \"Change in AADT\", shape = \"Opened in 2013\") +\n",
    "    theme_void() +\n",
    "    theme(\n",
    "      plot_title=element_text(face=\"bold\")\n",
    "    )+\n",
    "    scale_fill_brewer(type=\"qual\", palette=\"Set3\") +\n",
    "    scale_color_distiller(type = \"div\",palette=\"RdYlGn\", direction = 1,\n",
    "                        limits=(-50, 50),\n",
    "                         breaks=[-50, 0, 50])\n",
    ")"
   ]
  },
  {
   "cell_type": "code",
   "execution_count": null,
   "id": "8e113a29",
   "metadata": {},
   "outputs": [],
   "source": [
    "#getting stations that are unopened\n",
    "proposed = df[df[\"opened_station\"] == 0]"
   ]
  },
  {
   "cell_type": "code",
   "execution_count": null,
   "id": "d325d44d",
   "metadata": {
    "scrolled": true
   },
   "outputs": [],
   "source": [
    "#plot of proposed, unopened bikeshares \n",
    "(\n",
    "ggplot(data = proposed) +\n",
    "    geom_map(data = dmv,\n",
    "            mapping = aes(fill = 'NAME', geometry = 'geometry'),\n",
    "            color = \"white\",\n",
    "            alpha = 0.5) +\n",
    "    geom_point(mapping = aes(x = 'long', y = 'lat'),\n",
    "               color = \"black\",\n",
    "               fill = \"#c3d67aff\",\n",
    "               size = 0.5,\n",
    "               alpha = 0.5\n",
    "        ) +\n",
    "    labs(title = \"Proposed Unopened Bikeshare Locations\", fill = \"County\") +\n",
    "    theme_void() +\n",
    "    theme(\n",
    "      plot_title=element_text(face=\"bold\")\n",
    "    )+\n",
    "    scale_fill_brewer(type=\"qual\", palette=\"Set3\")\n",
    ")"
   ]
  },
  {
   "cell_type": "code",
   "execution_count": null,
   "id": "74d89510",
   "metadata": {
    "scrolled": true
   },
   "outputs": [],
   "source": [
    "#cleans up .0 after year\n",
    "df['open_year'] = df['open_year'].replace([np.nan, np.inf, -np.inf], 2000).astype(int).replace(2000, None)"
   ]
  },
  {
   "cell_type": "code",
   "execution_count": null,
   "id": "2dd26796",
   "metadata": {
    "scrolled": true
   },
   "outputs": [],
   "source": [
    "#number of stations opened per year\n",
    "stations = df['open_year'].value_counts().reset_index().sort_values(by=\"open_year\", ascending=True)"
   ]
  },
  {
   "cell_type": "code",
   "execution_count": null,
   "id": "cdcc46e8",
   "metadata": {},
   "outputs": [],
   "source": [
    "#gets total opened stations per year\n",
    "stations['sum'] = stations['count'].cumsum()"
   ]
  },
  {
   "cell_type": "code",
   "execution_count": null,
   "id": "7f8c9222",
   "metadata": {
    "scrolled": true
   },
   "outputs": [],
   "source": [
    "#compute number of stations with unknown opening years\n",
    "df['open_year'].isnull().sum()"
   ]
  },
  {
   "cell_type": "code",
   "execution_count": null,
   "id": "4d475a40",
   "metadata": {},
   "outputs": [],
   "source": [
    "stations"
   ]
  },
  {
   "cell_type": "code",
   "execution_count": null,
   "id": "e9d4f633",
   "metadata": {},
   "outputs": [],
   "source": [
    "#graph of bikeshares by year\n",
    "bargraph1 = (\n",
    "ggplot(data = stations) +\n",
    "    geom_col(aes(x = \"open_year\", y = \"sum\"), color = \"red\", fill = \"white\") +\n",
    "    geom_col(aes(x = \"open_year\", y = \"count\"), fill = \"coral\") +\n",
    "    labs(x = \"Opening Year\",\n",
    "        y = \"Total # of Capital Bikeshares\",\n",
    "        title = \"Capital Bikeshares by Year\",\n",
    "        caption = \"294 stations not included with unknown opening dates\",) +\n",
    "    theme_minimal() +\n",
    "    scale_x_continuous(breaks = range(2010, 2023))\n",
    "    \n",
    ")\n",
    "\n",
    "bargraph1"
   ]
  },
  {
   "cell_type": "code",
   "execution_count": null,
   "id": "849ad122",
   "metadata": {
    "scrolled": true
   },
   "outputs": [],
   "source": [
    "#melting from wide to long\n",
    "traffic = df.filter([\"open_year\", '2007', '2008', '2009',\n",
    "       '2010', '2011', '2012', '2013', '2014', '2015', '2016', '2017', '2018',\n",
    "       '2019']).melt(id_vars= [\"open_year\"], value_vars =['2007', '2008', '2009',\n",
    "       '2010', '2011', '2012', '2013', '2014', '2015', '2016', '2017', '2018',\n",
    "       '2019'])"
   ]
  },
  {
   "cell_type": "code",
   "execution_count": null,
   "id": "34e2c175",
   "metadata": {},
   "outputs": [],
   "source": [
    "#aggregated traffic vol by year\n",
    "traffic = traffic.groupby(\"variable\")[\"value\"].agg(\"mean\").reset_index()"
   ]
  },
  {
   "cell_type": "code",
   "execution_count": null,
   "id": "f21e1317",
   "metadata": {},
   "outputs": [],
   "source": [
    "#converting it to int for graph\n",
    "traffic[\"variable\"] = traffic[\"variable\"].astype(int)"
   ]
  },
  {
   "cell_type": "code",
   "execution_count": null,
   "id": "d4f2d0ef",
   "metadata": {
    "scrolled": true
   },
   "outputs": [],
   "source": [
    "#linegraph of traffic vol by year\n",
    "linegraph1 = (\n",
    "ggplot(data = traffic) +\n",
    "    geom_point(aes(x = \"variable\", y = \"value\"), color = \"black\", size = 1.5) +\n",
    "    geom_line(aes(x = \"variable\", y = \"value\", group = 1), color = \"red\", size = 1.5) +\n",
    "    scale_y_continuous(limits = [0, 30000]) +\n",
    "    scale_x_continuous(limits = [2007, 2019], breaks = range(2007, 2019)) +\n",
    "    labs(x = \"Year\",  y = \"Average AADT\", title = \"Traffic Volume per Year\") +\n",
    "    theme_minimal() \n",
    ")\n",
    "\n",
    "linegraph1"
   ]
  },
  {
   "cell_type": "code",
   "execution_count": null,
   "id": "b172f609",
   "metadata": {},
   "outputs": [],
   "source": [
    "df.query(\"opened_station == True\").shape"
   ]
  },
  {
   "cell_type": "code",
   "execution_count": null,
   "id": "90093e69",
   "metadata": {
    "scrolled": true
   },
   "outputs": [],
   "source": [
    "traffic_na = df.query(\"opened_station == True\").filter(['2007', '2008', '2009','2010', '2011', '2012', '2013', '2014', '2015', '2016', '2017', '2018','2019']).isna().sum().reset_index().rename(columns = {\"index\": \"Year\", 0: \"Count\"}).assign(Percent = lambda x: x[\"Count\"]/780 * 100)"
   ]
  },
  {
   "cell_type": "code",
   "execution_count": null,
   "id": "17ea2f9c",
   "metadata": {},
   "outputs": [],
   "source": [
    "traffic_na"
   ]
  },
  {
   "cell_type": "code",
   "execution_count": null,
   "id": "db3f6d82",
   "metadata": {},
   "outputs": [],
   "source": [
    "linegraph2 = (\n",
    "ggplot(data = traffic_na) +\n",
    "    geom_point(aes(x = \"Year\", y = \"Percent\"), color = \"black\", size = 1.5) +\n",
    "    geom_line(aes(x = \"Year\", y = \"Percent\", group = 1), color = \"red\", size = 1.5) +\n",
    "    scale_y_continuous(limits = [0, 100]) +\n",
    "    labs(x = \"Year\",  y = \"% Missing Data\", title = \"% of Missing Traffic Volume Data per Year\") +\n",
    "    theme_minimal() \n",
    "    \n",
    ")\n",
    "\n",
    "linegraph2"
   ]
  },
  {
   "cell_type": "markdown",
   "id": "411b2d1e",
   "metadata": {},
   "source": [
    "Saving graphs"
   ]
  },
  {
   "cell_type": "code",
   "execution_count": null,
   "id": "f4f0245e",
   "metadata": {},
   "outputs": [],
   "source": [
    "#saving graphs\n",
    "map1.save('../visualizations/graphs/map1.png', dpi=300)"
   ]
  },
  {
   "cell_type": "code",
   "execution_count": null,
   "id": "9c257e01",
   "metadata": {},
   "outputs": [],
   "source": [
    "bargraph1.save('../visualizations/graphs/bargraph1.png', dpi=300)"
   ]
  },
  {
   "cell_type": "code",
   "execution_count": null,
   "id": "f71f36b6",
   "metadata": {
    "scrolled": true
   },
   "outputs": [],
   "source": [
    "linegraph1.save('../visualizations/graphs/linegraph1.png', dpi=300)"
   ]
  },
  {
   "cell_type": "code",
   "execution_count": null,
   "id": "754db3e3",
   "metadata": {},
   "outputs": [],
   "source": [
    "linegraph2.save('../visualizations/graphs/bargraph2.png', dpi=300)"
   ]
  }
 ],
 "metadata": {
  "kernelspec": {
   "display_name": "Python 3 (ipykernel)",
   "language": "python",
   "name": "python3"
  },
  "language_info": {
   "codemirror_mode": {
    "name": "ipython",
    "version": 3
   },
   "file_extension": ".py",
   "mimetype": "text/x-python",
   "name": "python",
   "nbconvert_exporter": "python",
   "pygments_lexer": "ipython3",
   "version": "3.10.9"
  }
 },
 "nbformat": 4,
 "nbformat_minor": 5
}
