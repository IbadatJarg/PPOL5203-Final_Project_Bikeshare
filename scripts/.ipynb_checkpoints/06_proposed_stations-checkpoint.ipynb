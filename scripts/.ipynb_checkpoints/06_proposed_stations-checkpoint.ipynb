{
 "cells": [
  {
   "cell_type": "markdown",
   "id": "010bd875",
   "metadata": {},
   "source": [
    "<h1><center> PPOL 5203 : Final Project  <br><br> \n",
    "<font color='grey'> Proposed Stations <br><br>\n",
    "Ibadat Jarg and Helen Wang</center></center> <h1> "
   ]
  },
  {
   "cell_type": "code",
   "execution_count": null,
   "id": "a70a9d3e",
   "metadata": {},
   "outputs": [],
   "source": [
    "#set libraries\n",
    "import pandas as pd\n",
    "import numpy as np\n",
    "import geopandas as gpd\n",
    "from plotnine import *"
   ]
  },
  {
   "cell_type": "code",
   "execution_count": null,
   "id": "16ae97c8",
   "metadata": {},
   "outputs": [],
   "source": [
    "#read files\n",
    "df = pd.read_csv(\"../data/cleaned_data/final_data.csv\")\n",
    "gdf_points = gpd.GeoDataFrame(df, geometry=gpd.points_from_xy(df['long'], df['lat']), crs=\"EPSG:4326\")"
   ]
  },
  {
   "cell_type": "code",
   "execution_count": null,
   "id": "43026ba6",
   "metadata": {},
   "outputs": [],
   "source": [
    "#unopened stations\n",
    "unopened_stations = df[df[\"opened_station\"] == 0]"
   ]
  },
  {
   "cell_type": "code",
   "execution_count": null,
   "id": "dae382ab",
   "metadata": {},
   "outputs": [],
   "source": [
    "#sorting it by highest traffic in 2019\n",
    "unopened_stations = unopened_stations.sort_values(by=\"2019\", ascending=False)"
   ]
  },
  {
   "cell_type": "code",
   "execution_count": null,
   "id": "6c468f76",
   "metadata": {
    "scrolled": true
   },
   "outputs": [],
   "source": [
    "#identifying top 25%\n",
    "unopened_stations[\"cutoff\"] = np.where(unopened_stations[\"2019\"] >= unopened_stations[\"2019\"].describe()['75%'], True, False)"
   ]
  },
  {
   "cell_type": "code",
   "execution_count": null,
   "id": "3063725c",
   "metadata": {},
   "outputs": [],
   "source": [
    "#assessing distribution\n",
    "unopened_stations[\"cutoff\"].value_counts()"
   ]
  },
  {
   "cell_type": "code",
   "execution_count": null,
   "id": "1517a015",
   "metadata": {},
   "outputs": [],
   "source": [
    "#reading in geographic data\n",
    "dc = gpd.read_file('../data/raw_data/dc_shape_file_zip') #dc census tracts"
   ]
  },
  {
   "cell_type": "code",
   "execution_count": null,
   "id": "5d1e8f2f",
   "metadata": {
    "scrolled": true
   },
   "outputs": [],
   "source": [
    "#plot of proposed, unopened bikeshares \n",
    "map2 = (\n",
    "ggplot(data = unopened_stations) +\n",
    "    geom_map(data = dc,\n",
    "            mapping = aes(geometry = 'geometry'),\n",
    "            color = \"white\",\n",
    "            alpha = 0.5) +\n",
    "    geom_point(mapping = aes(x = 'long', y = 'lat', color = \"2019\", shape = \"cutoff\", size = \"2019\")\n",
    "        ) +\n",
    "    labs(title = \"Proposed Unopened Bikeshare Locations by Traffic\", color = \"AADT\", shape = \"Top 25%\") +\n",
    "    theme_void() +\n",
    "    theme(\n",
    "      plot_title=element_text(face=\"bold\")\n",
    "    ) +\n",
    "    scale_color_distiller(type = \"div\",palette=\"RdYlGn\", direction = 1)  +\n",
    "    guides(size = False)\n",
    ")\n",
    "\n",
    "map2"
   ]
  },
  {
   "cell_type": "code",
   "execution_count": null,
   "id": "9a87ef6f",
   "metadata": {},
   "outputs": [],
   "source": [
    "map2.save('../visualizations/graphs/map2.png', dpi=300)"
   ]
  },
  {
   "cell_type": "code",
   "execution_count": null,
   "id": "f0d90088",
   "metadata": {},
   "outputs": [],
   "source": [
    "unopened_stations[unopened_stations[\"cutoff\"] == True].filter([\"name\", \"long\", \"lat\", \"2019\"]).reset_index()"
   ]
  }
 ],
 "metadata": {
  "kernelspec": {
   "display_name": "Python 3 (ipykernel)",
   "language": "python",
   "name": "python3"
  },
  "language_info": {
   "codemirror_mode": {
    "name": "ipython",
    "version": 3
   },
   "file_extension": ".py",
   "mimetype": "text/x-python",
   "name": "python",
   "nbconvert_exporter": "python",
   "pygments_lexer": "ipython3",
   "version": "3.10.9"
  }
 },
 "nbformat": 4,
 "nbformat_minor": 5
}
