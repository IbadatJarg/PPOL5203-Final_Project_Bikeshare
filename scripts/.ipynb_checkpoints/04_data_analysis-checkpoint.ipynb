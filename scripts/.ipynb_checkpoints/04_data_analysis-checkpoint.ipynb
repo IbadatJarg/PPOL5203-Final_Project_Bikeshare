{
 "cells": [
  {
   "cell_type": "markdown",
   "metadata": {},
   "source": [
    "<h1><center> PPOL 5203 : Final Project  <br><br> \n",
    "<font color='grey'> Main Analysis <br><br>\n",
    "Ibadat Jarg and Helen Wang</center></center> <h1> "
   ]
  },
  {
   "cell_type": "code",
   "execution_count": null,
   "metadata": {},
   "outputs": [],
   "source": [
    "#pip install linearmodels"
   ]
  },
  {
   "cell_type": "code",
   "execution_count": null,
   "metadata": {},
   "outputs": [],
   "source": [
    "#Setup\n",
    "import numpy as np\n",
    "import pandas as pd\n",
    "import json\n",
    "import os\n",
    "from sklearn.model_selection import train_test_split\n",
    "from sklearn.linear_model import LinearRegression\n",
    "from sklearn.metrics import mean_squared_error, r2_score\n",
    "import statsmodels.api as sm\n",
    "import matplotlib.pyplot as plt\n",
    "from linearmodels.panel import PanelOLS\n",
    "import matplotlib.pyplot as plt\n",
    "import seaborn as sns\n",
    "from plotnine import *"
   ]
  },
  {
   "cell_type": "code",
   "execution_count": null,
   "metadata": {},
   "outputs": [],
   "source": [
    "#Loading our data\n",
    "df = pd.read_csv(\"../data/cleaned_data/final_data.csv\")"
   ]
  },
  {
   "cell_type": "code",
   "execution_count": null,
   "metadata": {},
   "outputs": [],
   "source": [
    "#Filtering by specified year\n",
    "df = df[df['opened_2013'] == True]\n",
    "\n",
    "df.head()"
   ]
  },
  {
   "cell_type": "markdown",
   "metadata": {},
   "source": [
    "### Data Manipulation\n",
    "\n"
   ]
  },
  {
   "cell_type": "code",
   "execution_count": null,
   "metadata": {},
   "outputs": [],
   "source": [
    "#Adding % change in traffic per station relative to 2013\n",
    "for year in ['2007', '2008', '2009','2010', '2011', '2012', '2013',  '2014', '2015', '2016','2017', '2018', '2019']:\n",
    "    df[f'Percent_Change_{year}'] = ((df[year] - df['2013']) / df['2013']) * 100"
   ]
  },
  {
   "cell_type": "markdown",
   "metadata": {},
   "source": [
    "### Plotting our discontinuity \n"
   ]
  },
  {
   "cell_type": "code",
   "execution_count": null,
   "metadata": {},
   "outputs": [],
   "source": [
    "#Setup for plotting \n",
    "years = [2007, 2008, 2009, 2010, 2011, 2012, 2013, 2014, 2015, 2016, 2017, 2018, 2019]\n",
    "percent_changes = df[[f'Percent_Change_{year}' for year in years if year != 2013]].mean(axis=0).values\n",
    "pre_break = years[:years.index(2013)]\n",
    "post_break = years[years.index(2013) + 1:]"
   ]
  },
  {
   "cell_type": "code",
   "execution_count": null,
   "metadata": {},
   "outputs": [],
   "source": [
    "# Pre-breakpoint\n",
    "plt.scatter(pre_break, percent_changes[:len(pre_break)], color='blue', label='Pre-2013', s=50)\n",
    "plt.plot(pre_break, percent_changes[:len(pre_break)], color='blue', linestyle='--')\n",
    "\n",
    "# Post-breakpoint\n",
    "plt.scatter(post_break, percent_changes[len(pre_break):], color='red', label='Post-2013', s=50)\n",
    "plt.plot(post_break, percent_changes[len(pre_break):], color='red', linestyle='--')\n",
    "\n",
    "# Breakpoint\n",
    "plt.axvline(x=2013, color='black', linestyle='--', label='Bikeshare location opened (2013)')\n",
    "\n",
    "# Labels and Legend\n",
    "plt.title('Traffic Volume Before and After Bikeshare Opening', fontsize=14)\n",
    "plt.xlabel('Year', fontsize=12)\n",
    "plt.ylabel('Avg % Change from 2013 in Traffic volume', fontsize=12)\n",
    "plt.legend(fontsize=10)\n",
    "plt.grid(True, alpha=0.3)\n",
    "\n",
    "#saving graphs\n",
    "plt.savefig('../visualizations/graphs/regression_graph1.png', dpi=300, bbox_inches='tight')  # Save as PNG"
   ]
  },
  {
   "cell_type": "code",
   "execution_count": null,
   "metadata": {},
   "outputs": [],
   "source": []
  },
  {
   "cell_type": "code",
   "execution_count": null,
   "metadata": {},
   "outputs": [],
   "source": [
    "# Reshape the data for plotting\n",
    "melted_df = pd.melt(\n",
    "    df,\n",
    "    id_vars=['id'],\n",
    "    value_vars=[f'Percent_Change_{year}' for year in ['2010', '2011', '2012', '2014', '2015', '2016']],\n",
    "    var_name='Year',\n",
    "    value_name='Percent Change'\n",
    ")"
   ]
  },
  {
   "cell_type": "code",
   "execution_count": null,
   "metadata": {},
   "outputs": [],
   "source": [
    "# Extract the numeric year from the column name \n",
    "melted_df['Year'] = melted_df['Year'].str.extract('(\\d{4})').astype(int)"
   ]
  },
  {
   "cell_type": "code",
   "execution_count": null,
   "metadata": {},
   "outputs": [],
   "source": [
    "#Dropping NA values\n",
    "melted_df_clean = melted_df.dropna(subset=['Percent Change'])"
   ]
  },
  {
   "cell_type": "code",
   "execution_count": null,
   "metadata": {},
   "outputs": [],
   "source": [
    "#Removing outliers \n",
    "melted_df_clean = melted_df_clean[melted_df_clean['Percent Change'] <= 50] #We are removing changes greater %50"
   ]
  },
  {
   "cell_type": "code",
   "execution_count": null,
   "metadata": {},
   "outputs": [],
   "source": [
    "# Separate pre- and post-discontinuity data again after cleaning\n",
    "pre_data = melted_df_clean[melted_df_clean['Year'] <= 2013]\n",
    "post_data = melted_df_clean[melted_df_clean['Year'] > 2013]"
   ]
  },
  {
   "cell_type": "code",
   "execution_count": null,
   "metadata": {},
   "outputs": [],
   "source": [
    "# Fit regression models using sklearn's LinearRegression\n",
    "pre_model = LinearRegression().fit(pre_data[['Year']], pre_data['Percent Change'])\n",
    "post_model = LinearRegression().fit(post_data[['Year']], post_data['Percent Change'])"
   ]
  },
  {
   "cell_type": "code",
   "execution_count": null,
   "metadata": {},
   "outputs": [],
   "source": [
    "# Generate regression lines using the fitted models\n",
    "years_pre = np.linspace(pre_data['Year'].min(), pre_data['Year'].max(), 100).reshape(-1, 1)\n",
    "years_post = np.linspace(post_data['Year'].min(), post_data['Year'].max(), 100).reshape(-1, 1)"
   ]
  },
  {
   "cell_type": "code",
   "execution_count": null,
   "metadata": {},
   "outputs": [],
   "source": [
    "# Generate regression lines using the fitted models\n",
    "years_pre = np.linspace(pre_data['Year'].min(), pre_data['Year'].max(), 100).reshape(-1, 1)\n",
    "years_post = np.linspace(post_data['Year'].min(), post_data['Year'].max(), 100).reshape(-1, 1)\n",
    "\n",
    "reg_line_pre = pre_model.predict(years_pre)\n",
    "reg_line_post = post_model.predict(years_post)"
   ]
  },
  {
   "cell_type": "code",
   "execution_count": null,
   "metadata": {},
   "outputs": [],
   "source": [
    "# Plotting\n",
    "plt.figure(figsize=(12, 8))\n",
    "\n",
    "# Scatter plot for all data points\n",
    "for id_, group in melted_df_clean.groupby('id'):\n",
    "    plt.scatter(group['Year'], group['Percent Change'], s=50, alpha=0.7)\n",
    "\n",
    "# Add regression lines\n",
    "plt.plot(years_pre, reg_line_pre, color='blue', linestyle='-', label=f'Pre-2013 Regression (Coef: {pre_model.coef_[0]:.2f}, Intercept: {pre_model.intercept_:.2f})')\n",
    "plt.plot(years_post, reg_line_post, color='red', linestyle='-', label=f'Post-2013 Regression (Coef: {post_model.coef_[0]:.2f}, Intercept: {post_model.intercept_:.2f})')\n",
    "\n",
    "# Breakpoint at 2013\n",
    "plt.axvline(x=2013, color='black', linestyle='--', label='Breakpoint (2013)')\n",
    "\n",
    "# Labels and Title\n",
    "plt.title('Regression Discontinuity Analysis: Scatter with Regression Lines', fontsize=14)\n",
    "plt.xlabel('Year', fontsize=12)\n",
    "plt.ylabel('Percentage Change Relative to 2013 (%)', fontsize=12)\n",
    "plt.grid(True, alpha=0.3)\n",
    "plt.legend()\n",
    "\n",
    "plt.show()"
   ]
  },
  {
   "cell_type": "markdown",
   "metadata": {},
   "source": [
    "### Statistical Results "
   ]
  },
  {
   "cell_type": "code",
   "execution_count": null,
   "metadata": {},
   "outputs": [],
   "source": [
    "# Separate pre- and post-discontinuity data again after cleaning\n",
    "pre_data = melted_df_clean[melted_df_clean['Year'] < 2013]\n",
    "post_data = melted_df_clean[melted_df_clean['Year'] > 2013]"
   ]
  },
  {
   "cell_type": "code",
   "execution_count": null,
   "metadata": {},
   "outputs": [],
   "source": [
    "# Adding constant for intercept using statsmodel 'sm'\n",
    "pre_X = sm.add_constant(pre_data[['Year']])\n",
    "post_X = sm.add_constant(post_data[['Year']])"
   ]
  },
  {
   "cell_type": "code",
   "execution_count": null,
   "metadata": {},
   "outputs": [],
   "source": [
    "# Fit models using statsmodels OLS using statsmodel 'sm'\n",
    "pre_model_stats = sm.OLS(pre_data['Percent Change'], pre_X).fit()\n",
    "post_model_stats = sm.OLS(post_data['Percent Change'], post_X).fit()"
   ]
  },
  {
   "cell_type": "code",
   "execution_count": null,
   "metadata": {},
   "outputs": [],
   "source": [
    "# Display the summary of the pre-2013 model\n",
    "print(\"Pre-2013 Model Summary:\")\n",
    "print(pre_model_stats.summary())"
   ]
  },
  {
   "cell_type": "code",
   "execution_count": null,
   "metadata": {},
   "outputs": [],
   "source": [
    "# Display the summary of the post-2013 model\n",
    "print(\"\\nPost-2013 Model Summary:\")\n",
    "print(post_model_stats.summary())"
   ]
  },
  {
   "cell_type": "markdown",
   "metadata": {},
   "source": [
    "### Panel Data Analysis"
   ]
  },
  {
   "cell_type": "code",
   "execution_count": null,
   "metadata": {},
   "outputs": [],
   "source": [
    "#Transformting our data to a usable format for panel data analysis\n",
    "long_df = pd.melt(\n",
    "    df, \n",
    "    id_vars=['id'],  # Columns to keep (not reshaped)\n",
    "    value_vars=[str(year) for year in range(2007, 2019)],  # Columns to melt\n",
    "    var_name='year',  # Name of the new 'year' column\n",
    "    value_name='traffic_volume'  # Name of the new 'traffic_volume' column\n",
    ")"
   ]
  },
  {
   "cell_type": "code",
   "execution_count": null,
   "metadata": {},
   "outputs": [],
   "source": [
    "# Convert 'year' to integer for consistency\n",
    "long_df['year'] = long_df['year'].astype(int)"
   ]
  },
  {
   "cell_type": "code",
   "execution_count": null,
   "metadata": {},
   "outputs": [],
   "source": [
    "# Add the 'opened' column: 1 if year >= 2013, else 0\n",
    "long_df['opened'] = (long_df['year'] >= 2013).astype(int)"
   ]
  },
  {
   "cell_type": "markdown",
   "metadata": {},
   "source": [
    "### Fixed Effects model (Unlogged)\n",
    "\n",
    "Note: To run the models make sure the re-run the chuck at the beggin of the Panel Effects section, we need to reset the long_df dataframe"
   ]
  },
  {
   "cell_type": "code",
   "execution_count": null,
   "metadata": {},
   "outputs": [],
   "source": [
    "# Set 'id' and 'year' as the MultiIndex for panel data\n",
    "long_df = long_df.set_index(['id', 'year'])"
   ]
  },
  {
   "cell_type": "code",
   "execution_count": null,
   "metadata": {},
   "outputs": [],
   "source": [
    "# Add a constant for the regression model\n",
    "long_df['const'] = 1"
   ]
  },
  {
   "cell_type": "code",
   "execution_count": null,
   "metadata": {},
   "outputs": [],
   "source": [
    "# Fit a fixed effects model (using Entity Effects for 'id')\n",
    "fe_model_entity = PanelOLS.from_formula('traffic_volume ~ opened + EntityEffects', long_df)\n",
    "fe_results_entity = fe_model_entity.fit()"
   ]
  },
  {
   "cell_type": "code",
   "execution_count": null,
   "metadata": {},
   "outputs": [],
   "source": [
    "# Fit a fixed effects model (using both Entity Effects and Time Effects)\n",
    "fe_model_time_entity = PanelOLS.from_formula('traffic_volume ~ opened + EntityEffects + TimeEffects', long_df)\n",
    "fe_results_time_entity = fe_model_time_entity.fit()"
   ]
  },
  {
   "cell_type": "code",
   "execution_count": null,
   "metadata": {
    "scrolled": true
   },
   "outputs": [],
   "source": [
    "# Print results\n",
    "print(fe_results_entity)"
   ]
  },
  {
   "cell_type": "code",
   "execution_count": null,
   "metadata": {},
   "outputs": [],
   "source": [
    "# Print results for entity + time effects\n",
    "print(fe_results_time_entity)"
   ]
  },
  {
   "cell_type": "markdown",
   "metadata": {},
   "source": [
    "### Fixed Effects (Logged)"
   ]
  },
  {
   "cell_type": "code",
   "execution_count": null,
   "metadata": {},
   "outputs": [],
   "source": [
    "#Logging the traffic variable\n",
    "long_df['log_traffic_volume'] = np.log(long_df['traffic_volume'])"
   ]
  },
  {
   "cell_type": "code",
   "execution_count": null,
   "metadata": {},
   "outputs": [],
   "source": [
    "# Add a constant for the regression model\n",
    "long_df['const'] = 1"
   ]
  },
  {
   "cell_type": "code",
   "execution_count": null,
   "metadata": {},
   "outputs": [],
   "source": [
    "# Fit a fixed effects model (using Entity Effects for 'id')\n",
    "fe_model_entity_log = PanelOLS.from_formula('log_traffic_volume ~ opened + EntityEffects', long_df)\n",
    "fe_results_entity_log = fe_model_entity_log.fit()"
   ]
  },
  {
   "cell_type": "code",
   "execution_count": null,
   "metadata": {},
   "outputs": [],
   "source": [
    "# Fit a fixed effects model (using both Entity Effects and Time Effects)\n",
    "fe_model_time_entity_log = PanelOLS.from_formula('log_traffic_volume ~ opened + EntityEffects + TimeEffects', long_df)\n",
    "fe_results_time_entity_log = fe_model_time_entity_log.fit()"
   ]
  },
  {
   "cell_type": "code",
   "execution_count": null,
   "metadata": {},
   "outputs": [],
   "source": [
    "# Print results\n",
    "print(fe_results_entity_log)"
   ]
  },
  {
   "cell_type": "code",
   "execution_count": null,
   "metadata": {},
   "outputs": [],
   "source": [
    "#Summary of entity + time effects\n",
    "print(fe_results_time_entity_log)"
   ]
  },
  {
   "cell_type": "code",
   "execution_count": null,
   "metadata": {},
   "outputs": [],
   "source": [
    "# Add predictions from the model to the dataframe\n",
    "long_df['fitted_values'] = fe_results_entity.fitted_values"
   ]
  },
  {
   "cell_type": "code",
   "execution_count": null,
   "metadata": {
    "scrolled": true
   },
   "outputs": [],
   "source": [
    "# Scatter plot of actual data points\n",
    "plt.figure(figsize=(12, 8))\n",
    "sns.scatterplot(\n",
    "    data=long_df.reset_index(), \n",
    "    x='year', \n",
    "    y='traffic_volume', \n",
    "    hue='opened', \n",
    "    alpha=0.6, \n",
    "    palette='coolwarm',\n",
    "    legend=None\n",
    ")\n",
    "\n",
    "# Plot the fitted regression line\n",
    "sns.lineplot(\n",
    "    data=long_df.reset_index(), \n",
    "    x='year', \n",
    "    y='fitted_values', \n",
    "    color='black', \n",
    "    label='Fitted Values (Panel Model)'\n",
    ")\n",
    "\n",
    "# Highlight the discontinuity\n",
    "plt.axvline(x=2013, color='red', linestyle='--', label='Opened (2013)')\n",
    "\n",
    "# Labels and title\n",
    "plt.title('Panel Data Regression: Traffic Volume vs. Opened', fontsize=14)\n",
    "plt.xlabel('Year', fontsize=12)\n",
    "plt.ylabel('Traffic Volume', fontsize=12)\n",
    "plt.grid(True, alpha=0.3)\n",
    "plt.legend()"
   ]
  },
  {
   "cell_type": "code",
   "execution_count": null,
   "metadata": {},
   "outputs": [],
   "source": [
    "#reset index\n",
    "long_reset = long_df.reset_index()"
   ]
  },
  {
   "cell_type": "code",
   "execution_count": null,
   "metadata": {},
   "outputs": [],
   "source": [
    "#convert opened to a categorical\n",
    "long_reset[\"opened\"] = pd.Categorical(long_reset['opened'], categories=[0, 1])"
   ]
  },
  {
   "cell_type": "code",
   "execution_count": null,
   "metadata": {},
   "outputs": [],
   "source": [
    "#bar graph of traffic volume \n",
    "(\n",
    "ggplot(data = long_reset) +\n",
    "    geom_col(mapping = aes(x = \"opened\", y  = \"traffic_volume\", group = \"id\", fill = \"opened\"), position = position_dodge()) +\n",
    "    facet_wrap('~opened', scales='free_x') +\n",
    "    labs(x = \"Opened Capital Bikeshare\", y = \"Traffic Volume (AADT)\", title = \"Traffic Volume by Capital Bikeshare Opening\",\n",
    "        fill = \"opened\")\n",
    ")\n"
   ]
  },
  {
   "cell_type": "code",
   "execution_count": null,
   "metadata": {},
   "outputs": [],
   "source": [
    "#line graph with traffic volume\n",
    "(\n",
    "ggplot(data = long_reset) +\n",
    "    geom_smooth(mapping = aes(x = \"year\", y = \"traffic_volume\", group = \"id\", color = \"id\"), se = False, linetype = \"dashed\") +\n",
    "    geom_smooth(mapping = aes(x = \"year\", y = \"traffic_volume\", group = \"opened\"), color = \"black\", se = False) +\n",
    "    facet_wrap('~opened', scales='free_x') +\n",
    "    theme_minimal() +\n",
    "    labs(x = \"Year\", y = \"Traffic Volume (AADT)\", title = \"Traffic Volume by Capital Bikeshare Opening\",\n",
    "        color = \"Opened Bikeshare\") +\n",
    "    theme(legend_position = \"none\")\n",
    ")"
   ]
  },
  {
   "cell_type": "code",
   "execution_count": null,
   "metadata": {},
   "outputs": [],
   "source": [
    "#z-score traffic volume\n",
    "long_reset['traffic_volume_zscore'] = long_reset.groupby('id')['traffic_volume'].transform(\n",
    "    lambda x: (x - x.mean()) / x.std()\n",
    ")"
   ]
  },
  {
   "cell_type": "code",
   "execution_count": null,
   "metadata": {},
   "outputs": [],
   "source": [
    "#cleaning up opened for graphs\n",
    "long_reset[\"opened_dich\"] = np.where(long_reset[\"opened\"] == 1, \"Opened\", \"Unopened\")\n",
    "long_reset[\"opened_dich\"] = pd.Categorical(long_reset[\"opened_dich\"], categories=['Unopened', 'Opened'], ordered=True)\n"
   ]
  },
  {
   "cell_type": "code",
   "execution_count": null,
   "metadata": {
    "scrolled": true
   },
   "outputs": [],
   "source": [
    "#line graph with zscored traffic volume with points\n",
    "(\n",
    "ggplot(data = long_reset) +\n",
    "    geom_jitter(mapping = aes(x = \"year\", y = \"traffic_volume_zscore\", color = \"opened\"), \n",
    "                alpha = 0.5, width=0.3, height=0.3) +\n",
    "    geom_smooth(mapping = aes(x = \"year\", y = \"traffic_volume_zscore\", group = \"opened_dich\"), color = \"black\", se = False) +\n",
    "    labs(x = \"Year\", y = \"Z-scored Traffic Volume (AADT)\", title = \"Traffic Volume by Capital Bikeshare Opening\",\n",
    "        color = \"Opened Bikeshare\") +\n",
    "    theme_linedraw() +\n",
    "    theme(legend_position = \"none\") +\n",
    "    scale_x_continuous(breaks= range(2007, 2019)) +\n",
    "    facet_wrap('~opened_dich', scales='free_x') \n",
    ")"
   ]
  },
  {
   "cell_type": "code",
   "execution_count": null,
   "metadata": {},
   "outputs": [],
   "source": [
    "#line graph with zscored traffic volume with lines\n",
    "(\n",
    "ggplot(data = long_reset) +\n",
    "    geom_line(mapping = aes(x = \"year\", y = \"traffic_volume_zscore\", group = \"id\", color = \"opened\"), \n",
    "                linetype = \"dashed\", alpha = 0.5) +\n",
    "    geom_smooth(mapping = aes(x = \"year\", y = \"traffic_volume_zscore\", group = \"opened_dich\"), color = \"black\", se = False) +\n",
    "    facet_wrap('~opened_dich', scales='free_x') +\n",
    "    labs(x = \"Year\", y = \"Z-scored Traffic Volume (AADT)\", title = \"Traffic Volume by Capital Bikeshare Opening\",\n",
    "        color = \"Opened Bikeshare\") +\n",
    "    theme_linedraw() +\n",
    "    theme(legend_position = \"none\") +\n",
    "    scale_x_continuous(breaks= range(2007, 2019))\n",
    ")"
   ]
  },
  {
   "cell_type": "code",
   "execution_count": null,
   "metadata": {},
   "outputs": [],
   "source": [
    "#line graph with logged traffic volume with points\n",
    "regression_graph2 = (\n",
    "ggplot(data = long_reset) +\n",
    "    geom_jitter(mapping = aes(x = \"year\", y = \"log_traffic_volume\", color = \"opened\"), \n",
    "                alpha = 0.5, width=0.3, height=0.3) +\n",
    "    geom_smooth(mapping = aes(x = \"year\", y = \"log_traffic_volume\", group = \"opened_dich\"), color = \"black\", se = False) +\n",
    "    labs(x = \"Year\", y = \"Logged Traffic Volume (AADT)\", title = \"Logged Traffic Volume by Capital Bikeshare Opening\",\n",
    "        color = \"Opened Bikeshare\") +\n",
    "    theme_linedraw() +\n",
    "    theme(legend_position = \"none\") +\n",
    "    scale_x_continuous(breaks= range(2007, 2019)) +\n",
    "    facet_wrap('~opened_dich', scales='free_x') \n",
    ")"
   ]
  },
  {
   "cell_type": "code",
   "execution_count": null,
   "metadata": {},
   "outputs": [],
   "source": [
    "regression_graph2"
   ]
  },
  {
   "cell_type": "markdown",
   "metadata": {},
   "source": [
    "Exporting tables to latex format and saving graphs"
   ]
  },
  {
   "cell_type": "code",
   "execution_count": null,
   "metadata": {
    "scrolled": true
   },
   "outputs": [],
   "source": [
    "#saving graphs\n",
    "regression_graph2.save('../visualizations/graphs/regression_graph2.png', dpi=300)"
   ]
  },
  {
   "cell_type": "code",
   "execution_count": null,
   "metadata": {},
   "outputs": [],
   "source": [
    "#saving tables\n",
    "with open('../visualizations/tables/fe_results_entity_log.tex', 'w') as f:\n",
    "    f.write(fe_results_entity_log.summary.as_latex())"
   ]
  },
  {
   "cell_type": "code",
   "execution_count": null,
   "metadata": {},
   "outputs": [],
   "source": [
    "with open('../visualizations/tables/fe_results_time_entity_log.tex', 'w') as f:\n",
    "    f.write(fe_results_time_entity_log.summary.as_latex())"
   ]
  },
  {
   "cell_type": "code",
   "execution_count": null,
   "metadata": {},
   "outputs": [],
   "source": [
    "with open('../visualizations/tables/post_model_results.tex', 'w') as f:\n",
    "    f.write(post_model_stats.summary().as_latex())"
   ]
  },
  {
   "cell_type": "code",
   "execution_count": null,
   "metadata": {},
   "outputs": [],
   "source": [
    "with open('../visualizations/tables/pre_model_results.tex', 'w') as f:\n",
    "    f.write(pre_model_stats.summary().as_latex())"
   ]
  }
 ],
 "metadata": {
  "kernelspec": {
   "display_name": "Python 3 (ipykernel)",
   "language": "python",
   "name": "python3"
  },
  "language_info": {
   "codemirror_mode": {
    "name": "ipython",
    "version": 3
   },
   "file_extension": ".py",
   "mimetype": "text/x-python",
   "name": "python",
   "nbconvert_exporter": "python",
   "pygments_lexer": "ipython3",
   "version": "3.10.9"
  }
 },
 "nbformat": 4,
 "nbformat_minor": 2
}
