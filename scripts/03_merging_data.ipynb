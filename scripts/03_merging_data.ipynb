{
 "cells": [
  {
   "cell_type": "code",
   "execution_count": 1,
   "id": "d4408007",
   "metadata": {},
   "outputs": [],
   "source": [
    "#setting library\n",
    "import pandas as pd\n",
    "import numpy as np"
   ]
  },
  {
   "cell_type": "code",
   "execution_count": 2,
   "id": "a841b211",
   "metadata": {},
   "outputs": [],
   "source": [
    "#reading in files\n",
    "op_traffic = pd.read_csv(\"../data/cleaned_data/opened_cb_traffic.csv\")\n",
    "unop_traffic = pd.read_csv(\"../data/cleaned_data/unopened_cb_traffic.csv\")"
   ]
  },
  {
   "cell_type": "code",
   "execution_count": 3,
   "id": "7cd2afa5",
   "metadata": {},
   "outputs": [],
   "source": [
    "#add indicator cols to df to show whether they're unopened or opened bikeshares for later merging\n",
    "op_traffic[\"opened_station\"] = 1\n",
    "unop_traffic[\"opened_station\"] = 0"
   ]
  },
  {
   "cell_type": "code",
   "execution_count": 4,
   "id": "6a6be5f5",
   "metadata": {},
   "outputs": [],
   "source": [
    "#merging df of opened capital bikeshares and unopened capital bikeshares\n",
    "merged_df = pd.concat([op_traffic, unop_traffic], ignore_index = True)"
   ]
  },
  {
   "cell_type": "code",
   "execution_count": 5,
   "id": "0f05beb4",
   "metadata": {
    "scrolled": true
   },
   "outputs": [],
   "source": [
    "#add indicator col for if opened in 2013\n",
    "merged_df[\"opened_2013\"] = np.where(merged_df[\"open_year\"] == 2013.0, True, False)"
   ]
  },
  {
   "cell_type": "code",
   "execution_count": 6,
   "id": "591e624b",
   "metadata": {},
   "outputs": [],
   "source": [
    "#saving final data\n",
    "merged_df.to_csv(\"../data/cleaned_data/final_data.csv\", index = False)"
   ]
  }
 ],
 "metadata": {
  "kernelspec": {
   "display_name": "Python 3 (ipykernel)",
   "language": "python",
   "name": "python3"
  },
  "language_info": {
   "codemirror_mode": {
    "name": "ipython",
    "version": 3
   },
   "file_extension": ".py",
   "mimetype": "text/x-python",
   "name": "python",
   "nbconvert_exporter": "python",
   "pygments_lexer": "ipython3",
   "version": "3.10.9"
  }
 },
 "nbformat": 4,
 "nbformat_minor": 5
}
