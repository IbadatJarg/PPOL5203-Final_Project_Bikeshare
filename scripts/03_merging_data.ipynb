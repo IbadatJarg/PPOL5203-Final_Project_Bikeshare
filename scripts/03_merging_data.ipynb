{
 "cells": [
  {
   "cell_type": "markdown",
   "id": "445aae45",
   "metadata": {},
   "source": [
    "<h1><center> PPOL 5203 : Final Project  <br><br> \n",
    "<font color='grey'> Merging Data <br><br>\n",
    "Ibadat Jarg and Helen Wang</center></center> <h1> "
   ]
  },
  {
   "cell_type": "code",
   "execution_count": null,
   "id": "d4408007",
   "metadata": {},
   "outputs": [],
   "source": [
    "#setting library\n",
    "import pandas as pd\n",
    "import numpy as np"
   ]
  },
  {
   "cell_type": "code",
   "execution_count": null,
   "id": "a841b211",
   "metadata": {},
   "outputs": [],
   "source": [
    "#reading in files\n",
    "op_traffic = pd.read_csv(\"../data/cleaned_data/opened_cb_traffic.csv\")\n",
    "unop_traffic = pd.read_csv(\"../data/cleaned_data/unopened_cb_traffic.csv\")"
   ]
  },
  {
   "cell_type": "code",
   "execution_count": null,
   "id": "7cd2afa5",
   "metadata": {},
   "outputs": [],
   "source": [
    "#add indicator cols to df to show whether they're unopened or opened bikeshares for later merging\n",
    "op_traffic[\"opened_station\"] = 1\n",
    "unop_traffic[\"opened_station\"] = 0"
   ]
  },
  {
   "cell_type": "code",
   "execution_count": null,
   "id": "6a6be5f5",
   "metadata": {},
   "outputs": [],
   "source": [
    "#merging df of opened capital bikeshares and unopened capital bikeshares\n",
    "merged_df = pd.concat([op_traffic, unop_traffic], ignore_index = True)"
   ]
  },
  {
   "cell_type": "code",
   "execution_count": null,
   "id": "0f05beb4",
   "metadata": {
    "scrolled": true
   },
   "outputs": [],
   "source": [
    "#add indicator col for if opened in 2013\n",
    "merged_df[\"opened_2013\"] = np.where(merged_df[\"open_year\"] == 2013.0, True, False)"
   ]
  },
  {
   "cell_type": "code",
   "execution_count": null,
   "id": "56a6e146",
   "metadata": {},
   "outputs": [],
   "source": [
    "#checking snap shot of data\n",
    "merged_df.iloc[2:5]"
   ]
  },
  {
   "cell_type": "code",
   "execution_count": null,
   "id": "591e624b",
   "metadata": {},
   "outputs": [],
   "source": [
    "#saving final data\n",
    "merged_df.to_csv(\"../data/cleaned_data/final_data.csv\", index = False)"
   ]
  }
 ],
 "metadata": {
  "kernelspec": {
   "display_name": "Python 3 (ipykernel)",
   "language": "python",
   "name": "python3"
  },
  "language_info": {
   "codemirror_mode": {
    "name": "ipython",
    "version": 3
   },
   "file_extension": ".py",
   "mimetype": "text/x-python",
   "name": "python",
   "nbconvert_exporter": "python",
   "pygments_lexer": "ipython3",
   "version": "3.10.9"
  }
 },
 "nbformat": 4,
 "nbformat_minor": 5
}
