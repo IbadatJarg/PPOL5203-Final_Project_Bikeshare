{
 "cells": [
  {
   "cell_type": "code",
   "execution_count": 9,
   "id": "d4408007",
   "metadata": {},
   "outputs": [],
   "source": [
    "#setting library\n",
    "import pandas as pd\n",
    "import numpy as np"
   ]
  },
  {
   "cell_type": "code",
   "execution_count": 10,
   "id": "a841b211",
   "metadata": {},
   "outputs": [],
   "source": [
    "#reading in files\n",
    "op_traffic = pd.read_csv(\"../data/cleaned_data/opened_cb_traffic.csv\")\n",
    "unop_traffic = pd.read_csv(\"../data/cleaned_data/unopened_cb_traffic.csv\")"
   ]
  },
  {
   "cell_type": "code",
   "execution_count": 11,
   "id": "7cd2afa5",
   "metadata": {},
   "outputs": [],
   "source": [
    "#add indicator cols to df to show whether they're unopened or opened bikeshares for later merging\n",
    "op_traffic[\"opened_station\"] = 1\n",
    "unop_traffic[\"opened_station\"] = 0"
   ]
  },
  {
   "cell_type": "code",
   "execution_count": 12,
   "id": "6a6be5f5",
   "metadata": {},
   "outputs": [],
   "source": [
    "#merging df of opened capital bikeshares and unopened capital bikeshares\n",
    "merged_df = pd.concat([op_traffic, unop_traffic], ignore_index = True)"
   ]
  },
  {
   "cell_type": "code",
   "execution_count": 13,
   "id": "0f05beb4",
   "metadata": {
    "scrolled": true
   },
   "outputs": [],
   "source": [
    "#add indicator col for if opened in 2013\n",
    "merged_df[\"opened_2013\"] = np.where(merged_df[\"open_year\"] == 2013.0, True, False)"
   ]
  },
  {
   "cell_type": "code",
   "execution_count": 15,
   "id": "56a6e146",
   "metadata": {},
   "outputs": [
    {
     "data": {
      "text/html": [
       "<div>\n",
       "<style scoped>\n",
       "    .dataframe tbody tr th:only-of-type {\n",
       "        vertical-align: middle;\n",
       "    }\n",
       "\n",
       "    .dataframe tbody tr th {\n",
       "        vertical-align: top;\n",
       "    }\n",
       "\n",
       "    .dataframe thead th {\n",
       "        text-align: right;\n",
       "    }\n",
       "</style>\n",
       "<table border=\"1\" class=\"dataframe\">\n",
       "  <thead>\n",
       "    <tr style=\"text-align: right;\">\n",
       "      <th></th>\n",
       "      <th>id</th>\n",
       "      <th>long</th>\n",
       "      <th>lat</th>\n",
       "      <th>open_year</th>\n",
       "      <th>name</th>\n",
       "      <th>2007</th>\n",
       "      <th>2008</th>\n",
       "      <th>2009</th>\n",
       "      <th>2010</th>\n",
       "      <th>2011</th>\n",
       "      <th>2012</th>\n",
       "      <th>2013</th>\n",
       "      <th>2014</th>\n",
       "      <th>2015</th>\n",
       "      <th>2016</th>\n",
       "      <th>2017</th>\n",
       "      <th>2018</th>\n",
       "      <th>2019</th>\n",
       "      <th>opened_station</th>\n",
       "      <th>opened_2013</th>\n",
       "    </tr>\n",
       "  </thead>\n",
       "  <tbody>\n",
       "    <tr>\n",
       "      <th>2</th>\n",
       "      <td>08249ef2-1f3f-11e7-bf6b-3863bb334450</td>\n",
       "      <td>-77.041779</td>\n",
       "      <td>38.905067</td>\n",
       "      <td>2010.0</td>\n",
       "      <td>18th &amp; M St NW</td>\n",
       "      <td>16554.625000</td>\n",
       "      <td>17207.750000</td>\n",
       "      <td>15743.375000</td>\n",
       "      <td>14952.545455</td>\n",
       "      <td>14570.454545</td>\n",
       "      <td>14663.818182</td>\n",
       "      <td>14727.272727</td>\n",
       "      <td>13212.0</td>\n",
       "      <td>12886.083333</td>\n",
       "      <td>13045.416667</td>\n",
       "      <td>15714.000000</td>\n",
       "      <td>15959.250000</td>\n",
       "      <td>15560.083333</td>\n",
       "      <td>1</td>\n",
       "      <td>False</td>\n",
       "    </tr>\n",
       "    <tr>\n",
       "      <th>3</th>\n",
       "      <td>082544b7-1f3f-11e7-bf6b-3863bb334450</td>\n",
       "      <td>-77.077078</td>\n",
       "      <td>38.943837</td>\n",
       "      <td>2013.0</td>\n",
       "      <td>39th &amp; Veazey St NW</td>\n",
       "      <td>17128.666667</td>\n",
       "      <td>17043.000000</td>\n",
       "      <td>16884.666667</td>\n",
       "      <td>16736.666667</td>\n",
       "      <td>16823.000000</td>\n",
       "      <td>17252.666667</td>\n",
       "      <td>16876.000000</td>\n",
       "      <td>17190.0</td>\n",
       "      <td>17311.666667</td>\n",
       "      <td>14909.000000</td>\n",
       "      <td>15051.250000</td>\n",
       "      <td>15299.750000</td>\n",
       "      <td>15046.000000</td>\n",
       "      <td>1</td>\n",
       "      <td>True</td>\n",
       "    </tr>\n",
       "    <tr>\n",
       "      <th>4</th>\n",
       "      <td>082524a2-1f3f-11e7-bf6b-3863bb334450</td>\n",
       "      <td>-77.086063</td>\n",
       "      <td>38.893237</td>\n",
       "      <td>2020.0</td>\n",
       "      <td>N Veitch St &amp; Key Blvd</td>\n",
       "      <td>14604.333333</td>\n",
       "      <td>14618.333333</td>\n",
       "      <td>14166.666667</td>\n",
       "      <td>12773.333333</td>\n",
       "      <td>12804.666667</td>\n",
       "      <td>12719.666667</td>\n",
       "      <td>13233.333333</td>\n",
       "      <td>12700.0</td>\n",
       "      <td>12633.333333</td>\n",
       "      <td>11300.000000</td>\n",
       "      <td>11366.666667</td>\n",
       "      <td>11266.666667</td>\n",
       "      <td>10966.666667</td>\n",
       "      <td>1</td>\n",
       "      <td>False</td>\n",
       "    </tr>\n",
       "  </tbody>\n",
       "</table>\n",
       "</div>"
      ],
      "text/plain": [
       "                                     id       long        lat  open_year  \\\n",
       "2  08249ef2-1f3f-11e7-bf6b-3863bb334450 -77.041779  38.905067     2010.0   \n",
       "3  082544b7-1f3f-11e7-bf6b-3863bb334450 -77.077078  38.943837     2013.0   \n",
       "4  082524a2-1f3f-11e7-bf6b-3863bb334450 -77.086063  38.893237     2020.0   \n",
       "\n",
       "                     name          2007          2008          2009  \\\n",
       "2          18th & M St NW  16554.625000  17207.750000  15743.375000   \n",
       "3     39th & Veazey St NW  17128.666667  17043.000000  16884.666667   \n",
       "4  N Veitch St & Key Blvd  14604.333333  14618.333333  14166.666667   \n",
       "\n",
       "           2010          2011          2012          2013     2014  \\\n",
       "2  14952.545455  14570.454545  14663.818182  14727.272727  13212.0   \n",
       "3  16736.666667  16823.000000  17252.666667  16876.000000  17190.0   \n",
       "4  12773.333333  12804.666667  12719.666667  13233.333333  12700.0   \n",
       "\n",
       "           2015          2016          2017          2018          2019  \\\n",
       "2  12886.083333  13045.416667  15714.000000  15959.250000  15560.083333   \n",
       "3  17311.666667  14909.000000  15051.250000  15299.750000  15046.000000   \n",
       "4  12633.333333  11300.000000  11366.666667  11266.666667  10966.666667   \n",
       "\n",
       "   opened_station  opened_2013  \n",
       "2               1        False  \n",
       "3               1         True  \n",
       "4               1        False  "
      ]
     },
     "execution_count": 15,
     "metadata": {},
     "output_type": "execute_result"
    }
   ],
   "source": [
    "merged_df.iloc[2:5]"
   ]
  },
  {
   "cell_type": "code",
   "execution_count": 6,
   "id": "591e624b",
   "metadata": {},
   "outputs": [],
   "source": [
    "#saving final data\n",
    "merged_df.to_csv(\"../data/cleaned_data/final_data.csv\", index = False)"
   ]
  }
 ],
 "metadata": {
  "kernelspec": {
   "display_name": "Python 3 (ipykernel)",
   "language": "python",
   "name": "python3"
  },
  "language_info": {
   "codemirror_mode": {
    "name": "ipython",
    "version": 3
   },
   "file_extension": ".py",
   "mimetype": "text/x-python",
   "name": "python",
   "nbconvert_exporter": "python",
   "pygments_lexer": "ipython3",
   "version": "3.10.9"
  }
 },
 "nbformat": 4,
 "nbformat_minor": 5
}
