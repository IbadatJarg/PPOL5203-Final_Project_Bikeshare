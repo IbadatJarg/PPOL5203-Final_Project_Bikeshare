{
 "cells": [
  {
   "cell_type": "markdown",
   "id": "f7dbe1c6",
   "metadata": {},
   "source": [
    "<h1><center> Data Cleaning File  <br><br> \n",
    "<font color='grey'> Cleaning Emissions and Traffic Data <br><br>\n"
   ]
  },
  {
   "cell_type": "markdown",
   "id": "f81cb5b1",
   "metadata": {},
   "source": [
    "Emissions Data"
   ]
  },
  {
   "cell_type": "code",
   "execution_count": 1,
   "id": "82614a28",
   "metadata": {},
   "outputs": [],
   "source": [
    "#setting libraries\n",
    "import pandas as pd"
   ]
  },
  {
   "cell_type": "code",
   "execution_count": 2,
   "id": "83b0cc0a",
   "metadata": {},
   "outputs": [],
   "source": [
    "#reading in emissions data files\n",
    "emissions_16 = pd.read_excel(\"2016_emissions.xlsx\",\n",
    "                            sheet_name = \"Direct Emitters\", #only picks first sheet\n",
    "                            header = 3,\n",
    "                            usecols = [\"City\", \"State\", \"Zip Code\", \"County\", \"Latitude\", \"Longitude\", \"Industry Type (subparts)\", \"Industry Type (sectors)\", \"Total reported direct emissions\"])\n",
    "emissions_13 = pd.read_excel(\"2013_emissions.xlsx\",\n",
    "                            sheet_name = \"Direct Emitters\", #only picks first sheet\n",
    "                            header = 3,\n",
    "                            usecols = [\"City\", \"State\", \"Zip Code\", \"County\", \"Latitude\", \"Longitude\", \"Industry Type (subparts)\", \"Industry Type (sectors)\", \"Total reported direct emissions\"])\n",
    "emissions_19 = pd.read_excel(\"2019_emissions.xlsx\",\n",
    "                            sheet_name = \"Direct Emitters\", #only picks first sheet\n",
    "                            header = 3,\n",
    "                            usecols = [\"City\", \"State\", \"Zip Code\", \"County\", \"Latitude\", \"Longitude\", \"Industry Type (subparts)\", \"Industry Type (sectors)\", \"Total reported direct emissions\"])"
   ]
  },
  {
   "cell_type": "code",
   "execution_count": 3,
   "id": "92225f22",
   "metadata": {},
   "outputs": [],
   "source": [
    "#create column names\n",
    "new_col_names = [\"city\", \"state\", \"zipcode\", \"county\", \"latitude\", \"longitude\", \"industry_sub\", \"industry_main\", \"total_emissions\"]"
   ]
  },
  {
   "cell_type": "code",
   "execution_count": 4,
   "id": "74fbcb73",
   "metadata": {},
   "outputs": [],
   "source": [
    "#rename columns\n",
    "for df in [emissions_16, emissions_13, emissions_19]:\n",
    "    df.columns = new_col_names"
   ]
  },
  {
   "cell_type": "code",
   "execution_count": 5,
   "id": "c6a90ac9",
   "metadata": {},
   "outputs": [],
   "source": [
    "#save list of relevant states and industry\n",
    "rel_states = [\"DC\", \"MD\", \"VA\"]\n",
    "rel_indust = \"MN|NN|C|W\""
   ]
  },
  {
   "cell_type": "code",
   "execution_count": 6,
   "id": "f4d0c5a1",
   "metadata": {},
   "outputs": [],
   "source": [
    "#filter for dc, md, and va + relevant industries\n",
    "emissions_16 = emissions_16.query('state in @rel_states & industry_sub.str.contains(@rel_indust, na = False)')\n",
    "emissions_13 = emissions_13.query('state in @rel_states & industry_sub.str.contains(@rel_indust, na = False)')\n",
    "emissions_19 = emissions_19.query('state in @rel_states & industry_sub.str.contains(@rel_indust, na = False)')"
   ]
  },
  {
   "cell_type": "code",
   "execution_count": 7,
   "id": "5b17dfa3",
   "metadata": {
    "scrolled": true
   },
   "outputs": [
    {
     "data": {
      "text/plain": [
       "[(159, 9), (157, 9), (156, 9)]"
      ]
     },
     "execution_count": 7,
     "metadata": {},
     "output_type": "execute_result"
    }
   ],
   "source": [
    "#checking number of rows\n",
    "[df.shape for df in [emissions_16, emissions_13, emissions_19]]"
   ]
  },
  {
   "cell_type": "code",
   "execution_count": 8,
   "id": "43d1e7af",
   "metadata": {},
   "outputs": [
    {
     "name": "stderr",
     "output_type": "stream",
     "text": [
      "C:\\Users\\helen\\AppData\\Local\\Temp\\ipykernel_10904\\1078787289.py:4: SettingWithCopyWarning: \n",
      "A value is trying to be set on a copy of a slice from a DataFrame.\n",
      "Try using .loc[row_indexer,col_indexer] = value instead\n",
      "\n",
      "See the caveats in the documentation: https://pandas.pydata.org/pandas-docs/stable/user_guide/indexing.html#returning-a-view-versus-a-copy\n",
      "  emissions_19.loc[:, \"time\"] = 2019\n"
     ]
    }
   ],
   "source": [
    "#adding identifers before merging\n",
    "emissions_13.loc[:, \"time\"] = 2013\n",
    "emissions_16.loc[:, \"time\"] = 2016\n",
    "emissions_19.loc[:, \"time\"] = 2019"
   ]
  },
  {
   "cell_type": "code",
   "execution_count": 10,
   "id": "30dac4a1",
   "metadata": {},
   "outputs": [],
   "source": [
    "#merge\n",
    "emissions = emissions_13.merge(emissions_16, how = \"outer\").merge(emissions_19, how = \"outer\")"
   ]
  },
  {
   "cell_type": "code",
   "execution_count": 19,
   "id": "a7f98184",
   "metadata": {},
   "outputs": [],
   "source": [
    "#convert to wide format\n",
    "emissions = emissions.pivot_table(\n",
    "    index = list(emissions.columns[:-2]),\n",
    "    columns = 'time',\n",
    "    values = 'total_emissions'\n",
    ").reset_index()"
   ]
  },
  {
   "cell_type": "code",
   "execution_count": 32,
   "id": "f4db0c44",
   "metadata": {},
   "outputs": [],
   "source": [
    "#set all colnames to str\n",
    "emissions.columns = emissions.columns.astype(str)"
   ]
  },
  {
   "cell_type": "code",
   "execution_count": 40,
   "id": "765786ae",
   "metadata": {
    "scrolled": true
   },
   "outputs": [],
   "source": [
    "#filters for all data that has both 2013 and 2019\n",
    "emissions = emissions[(~emissions['2013'].isna()) & (~emissions['2019'].isna())]"
   ]
  },
  {
   "cell_type": "markdown",
   "id": "61c9ffd5",
   "metadata": {},
   "source": [
    "Traffic Data"
   ]
  },
  {
   "cell_type": "code",
   "execution_count": 43,
   "id": "c7daf0c5",
   "metadata": {},
   "outputs": [],
   "source": [
    "import requests\n",
    "import os\n",
    "from dotenv import load_dotenv"
   ]
  },
  {
   "cell_type": "code",
   "execution_count": null,
   "id": "20c4ebdc",
   "metadata": {},
   "outputs": [],
   "source": []
  },
  {
   "cell_type": "code",
   "execution_count": null,
   "id": "51875833",
   "metadata": {},
   "outputs": [],
   "source": []
  }
 ],
 "metadata": {
  "kernelspec": {
   "display_name": "Python 3 (ipykernel)",
   "language": "python",
   "name": "python3"
  },
  "language_info": {
   "codemirror_mode": {
    "name": "ipython",
    "version": 3
   },
   "file_extension": ".py",
   "mimetype": "text/x-python",
   "name": "python",
   "nbconvert_exporter": "python",
   "pygments_lexer": "ipython3",
   "version": "3.10.9"
  }
 },
 "nbformat": 4,
 "nbformat_minor": 5
}
