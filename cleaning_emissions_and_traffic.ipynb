{
 "cells": [
  {
   "cell_type": "markdown",
   "id": "2d2ebc73",
   "metadata": {},
   "source": [
    "<h1><center> Data Cleaning File  <br><br> \n",
    "<font color='grey'> Cleaning Emissions and Traffic Data <br><br>\n"
   ]
  },
  {
   "cell_type": "code",
   "execution_count": 1,
   "id": "975b5fff",
   "metadata": {},
   "outputs": [],
   "source": [
    "#setting libraries\n",
    "import pandas as pd"
   ]
  },
  {
   "cell_type": "code",
   "execution_count": 2,
   "id": "19e228c4",
   "metadata": {},
   "outputs": [],
   "source": [
    "#reading in emissions data files\n",
    "emissions_16 = pd.read_excel(\"2016_emissions.xlsx\",\n",
    "                            sheet_name = \"Direct Emitters\", #only picks first sheet\n",
    "                            header = 3,\n",
    "                            usecols = [\"City\", \"State\", \"Zip Code\", \"County\", \"Latitude\", \"Longitude\", \"Industry Type (subparts)\", \"Industry Type (sectors)\", \"Total reported direct emissions\"])\n",
    "emissions_13 = pd.read_excel(\"2013_emissions.xlsx\",\n",
    "                            sheet_name = \"Direct Emitters\", #only picks first sheet\n",
    "                            header = 3,\n",
    "                            usecols = [\"City\", \"State\", \"Zip Code\", \"County\", \"Latitude\", \"Longitude\", \"Industry Type (subparts)\", \"Industry Type (sectors)\", \"Total reported direct emissions\"])\n",
    "emissions_19 = pd.read_excel(\"2019_emissions.xlsx\",\n",
    "                            sheet_name = \"Direct Emitters\", #only picks first sheet\n",
    "                            header = 3,\n",
    "                            usecols = [\"City\", \"State\", \"Zip Code\", \"County\", \"Latitude\", \"Longitude\", \"Industry Type (subparts)\", \"Industry Type (sectors)\", \"Total reported direct emissions\"])"
   ]
  },
  {
   "cell_type": "code",
   "execution_count": 3,
   "id": "e622f034",
   "metadata": {},
   "outputs": [],
   "source": [
    "#create column names\n",
    "new_col_names = [\"city\", \"state\", \"zipcode\", \"county\", \"latitude\", \"longitude\", \"industry_sub\", \"industry_main\", \"total_emissions\"]"
   ]
  },
  {
   "cell_type": "code",
   "execution_count": 4,
   "id": "50b81164",
   "metadata": {},
   "outputs": [],
   "source": [
    "#rename columns\n",
    "for df in [emissions_16, emissions_13, emissions_19]:\n",
    "    df.columns = new_col_names"
   ]
  },
  {
   "cell_type": "code",
   "execution_count": 5,
   "id": "977dc24a",
   "metadata": {},
   "outputs": [],
   "source": [
    "#save list of relevant states and industry\n",
    "rel_states = [\"DC\", \"MD\", \"VA\"]\n",
    "rel_indust = \"MN|NN|C|W\""
   ]
  },
  {
   "cell_type": "code",
   "execution_count": 6,
   "id": "ca1f69d2",
   "metadata": {},
   "outputs": [],
   "source": [
    "#filter for dc, md, and va + relevant industries\n",
    "emissions_16 = emissions_16.query('state in @rel_states & industry_sub.str.contains(@rel_indust, na = False)')\n",
    "emissions_13 = emissions_13.query('state in @rel_states & industry_sub.str.contains(@rel_indust, na = False)')\n",
    "emissions_19 = emissions_19.query('state in @rel_states & industry_sub.str.contains(@rel_indust, na = False)')"
   ]
  },
  {
   "cell_type": "code",
   "execution_count": 7,
   "id": "3098c748",
   "metadata": {
    "scrolled": true
   },
   "outputs": [
    {
     "data": {
      "text/plain": [
       "[(159, 9), (157, 9), (156, 9)]"
      ]
     },
     "execution_count": 7,
     "metadata": {},
     "output_type": "execute_result"
    }
   ],
   "source": [
    "#checking number of rows\n",
    "[df.shape for df in [emissions_16, emissions_13, emissions_19]]"
   ]
  },
  {
   "cell_type": "code",
   "execution_count": 8,
   "id": "2b2b67ca",
   "metadata": {},
   "outputs": [
    {
     "name": "stderr",
     "output_type": "stream",
     "text": [
      "C:\\Users\\helen\\AppData\\Local\\Temp\\ipykernel_10904\\1078787289.py:4: SettingWithCopyWarning: \n",
      "A value is trying to be set on a copy of a slice from a DataFrame.\n",
      "Try using .loc[row_indexer,col_indexer] = value instead\n",
      "\n",
      "See the caveats in the documentation: https://pandas.pydata.org/pandas-docs/stable/user_guide/indexing.html#returning-a-view-versus-a-copy\n",
      "  emissions_19.loc[:, \"time\"] = 2019\n"
     ]
    }
   ],
   "source": [
    "#adding identifers before merging\n",
    "emissions_13.loc[:, \"time\"] = 2013\n",
    "emissions_16.loc[:, \"time\"] = 2016\n",
    "emissions_19.loc[:, \"time\"] = 2019"
   ]
  },
  {
   "cell_type": "code",
   "execution_count": 10,
   "id": "702580a3",
   "metadata": {},
   "outputs": [],
   "source": [
    "#merge\n",
    "emissions = emissions_13.merge(emissions_16, how = \"outer\").merge(emissions_19, how = \"outer\")"
   ]
  },
  {
   "cell_type": "code",
   "execution_count": 19,
   "id": "017d0833",
   "metadata": {},
   "outputs": [],
   "source": [
    "#convert to wide format\n",
    "emissions = emissions.pivot_table(\n",
    "    index = list(emissions.columns[:-2]),\n",
    "    columns = 'time',\n",
    "    values = 'total_emissions'\n",
    ").reset_index()"
   ]
  },
  {
   "cell_type": "code",
   "execution_count": 16,
   "id": "80fa94b6",
   "metadata": {},
   "outputs": [
    {
     "data": {
      "text/plain": [
       "['city',\n",
       " 'state',\n",
       " 'zipcode',\n",
       " 'county',\n",
       " 'latitude',\n",
       " 'longitude',\n",
       " 'industry_sub',\n",
       " 'industry_main']"
      ]
     },
     "execution_count": 16,
     "metadata": {},
     "output_type": "execute_result"
    }
   ],
   "source": []
  }
 ],
 "metadata": {
  "kernelspec": {
   "display_name": "Python 3 (ipykernel)",
   "language": "python",
   "name": "python3"
  },
  "language_info": {
   "codemirror_mode": {
    "name": "ipython",
    "version": 3
   },
   "file_extension": ".py",
   "mimetype": "text/x-python",
   "name": "python",
   "nbconvert_exporter": "python",
   "pygments_lexer": "ipython3",
   "version": "3.10.9"
  }
 },
 "nbformat": 4,
 "nbformat_minor": 5
}
